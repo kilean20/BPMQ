{
 "cells": [
  {
   "cell_type": "code",
   "execution_count": null,
   "id": "79195d1a-e20f-40e3-b5a2-5d805a42d03d",
   "metadata": {},
   "outputs": [],
   "source": [
    "import sys\n",
    "sys.path.append('./models/')\n",
    "from BPMQ_model import BPMQ_model"
   ]
  },
  {
   "cell_type": "code",
   "execution_count": null,
   "id": "0d9409b1-c6da-41aa-a813-cc9980144c19",
   "metadata": {},
   "outputs": [],
   "source": []
  }
 ],
 "metadata": {
  "kernelspec": {
   "display_name": "Python 3 (ipykernel)",
   "language": "python",
   "name": "python3"
  },
  "language_info": {
   "codemirror_mode": {
    "name": "ipython",
    "version": 3
   },
   "file_extension": ".py",
   "mimetype": "text/x-python",
   "name": "python",
   "nbconvert_exporter": "python",
   "pygments_lexer": "ipython3",
   "version": "3.11.2"
  }
 },
 "nbformat": 4,
 "nbformat_minor": 5
}
