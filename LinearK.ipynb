{
 "cells": [
  {
   "cell_type": "code",
   "execution_count": 1,
   "id": "fa7e0439-aa60-4013-94ba-0e2b4dd4b8fe",
   "metadata": {
    "editable": true,
    "slideshow": {
     "slide_type": ""
    },
    "tags": []
   },
   "outputs": [],
   "source": [
    "import numpy as np\n",
    "import botorch\n",
    "import matplotlib.pyplot as plt\n",
    "from typing import Dict, Optional, Tuple, Union\n",
    "\n",
    "import torch\n",
    "from torch import Tensor\n",
    "torch.set_default_dtype(torch.float64)\n",
    "\n",
    "from botorch.models import SingleTaskGP\n",
    "from botorch.models.model import Model\n",
    "from botorch.models.transforms.outcome import Standardize\n",
    "from botorch.models.transforms.input import Normalize\n",
    "from botorch.acquisition import AnalyticAcquisitionFunction\n",
    "from botorch.acquisition.objective import PosteriorTransform\n",
    "from botorch.optim import optimize_acqf, optimize_acqf\n",
    "from botorch.fit import fit_gpytorch_mll\n",
    "from botorch.utils.transforms import t_batch_mode_transform\n",
    "\n",
    "from gpytorch.kernels import LinearKernel, PolynomialKernel\n",
    "from gpytorch.likelihoods import GaussianLikelihood\n",
    "from gpytorch.mlls import ExactMarginalLogLikelihood\n",
    "from gpytorch.priors import GammaPrior\n",
    "\n",
    "\n",
    "_dtype = torch.float64\n",
    "err_std = 0.01"
   ]
  },
  {
   "cell_type": "code",
   "execution_count": 4,
   "id": "fc28064e-d68b-4082-abcf-0921036f8b40",
   "metadata": {},
   "outputs": [
    {
     "name": "stderr",
     "output_type": "stream",
     "text": [
      "warning: import phantasy failed\n",
      "warning: import epics failed\n"
     ]
    }
   ],
   "source": [
    "from construct_machineIO import construct_machineIO\n",
    "_global_machineIO = construct_machineIO()"
   ]
  },
  {
   "cell_type": "code",
   "execution_count": 5,
   "id": "e429e435-5665-45e5-b6e7-258b3ea1a612",
   "metadata": {},
   "outputs": [],
   "source": [
    "class dictClass(dict):\n",
    "  \"\"\" \n",
    "  This class is essentially a subclass of dict\n",
    "  with attribute accessors, one can see which attributes are available\n",
    "  using the `keys()` method.\n",
    "  \"\"\"\n",
    "  def __dir__(self):\n",
    "      return self.keys()\n",
    "    \n",
    "  def __getattr__(self, name):\n",
    "    try:\n",
    "      return self[name]\n",
    "    except KeyError:\n",
    "      raise AttributeError(name)\n",
    "  if dict==None:\n",
    "    __setattr__ = {}.__setitem__\n",
    "    __delattr__ = {}.__delitem__\n",
    "  else:\n",
    "    __setattr__ = dict.__setitem__\n",
    "    __delattr__ = dict.__delitem__\n",
    "\n",
    "  def __repr__(self):\n",
    "    if self.keys():\n",
    "      L = list(self.keys())\n",
    "      L = [str(L[i]) for i in range(len(L))]\n",
    "      m = max(map(len, L)) + 1\n",
    "      f = ''\n",
    "      for k, v in self.items():\n",
    "        if isinstance(v,dict):\n",
    "          f = f + '\\n'+str(k).rjust(m) + ': ' + repr(k) + ' class'\n",
    "        else:\n",
    "          unitStr=''\n",
    "          if k in unit:\n",
    "            unitStr = ' ['+unit[k]+']'\n",
    "          f = f + '\\n'+str(k).rjust(m) + ': ' + repr(v) + unitStr\n",
    "      return f\n",
    "    else:\n",
    "      return self.__class__.__name__ + \"()\"\n",
    "\n",
    "  def find_key(self,val):\n",
    "    if val==None :\n",
    "      return\n",
    "    for k in self.keys():\n",
    "      if self[k]==val:\n",
    "        return k"
   ]
  },
  {
   "cell_type": "code",
   "execution_count": 3,
   "id": "48a45bf0-fcf6-4cfb-a3f1-86ab6e8f6f6e",
   "metadata": {},
   "outputs": [],
   "source": [
    "def objective_function(x,err_std=err_std):\n",
    "    return 2*x + 1 + err_std*np.random.randn(), err_std*(1+np.random.randn()*0.1)"
   ]
  },
  {
   "cell_type": "code",
   "execution_count": 4,
   "id": "be580b63-4663-4c7b-83ea-c2937b3bb5c7",
   "metadata": {},
   "outputs": [],
   "source": [
    "class GoalConfidenceBound(AnalyticAcquisitionFunction):\n",
    "    r\"\"\"Single-outcome Goal Confidence Bound (GCB).\n",
    "    `GCB(x) = -abs(mu(x) - goal) + sqrt(beta) * sigma(x)`, where `mu` and `sigma` are the\n",
    "    posterior mean and standard deviation, respectively.\n",
    "\n",
    "    \"\"\"\n",
    "    def __init__(\n",
    "        self,\n",
    "        model: Model,\n",
    "        goal: Union[float, Tensor],\n",
    "        beta: Union[float, Tensor],\n",
    "        posterior_transform: Optional[PosteriorTransform] = None,\n",
    "    ) -> None:\n",
    "        r\"\"\"Single-outcome Upper Confidence Bound.\n",
    "\n",
    "        Args:\n",
    "            model: A fitted single-outcome GP model (must be in batch mode if candidate sets X will be)\n",
    "            beta: Either a scalar or a one-dim tensor with `b` elements (batch mode)\n",
    "                representing the trade-off parameter between mean and covariance\n",
    "            posterior_transform: A PosteriorTransform. If using a multi-output model,\n",
    "                a PosteriorTransform that transforms the multi-output posterior into a\n",
    "                single-output posterior is required.\n",
    "        \"\"\"\n",
    "        super().__init__(model=model, posterior_transform=posterior_transform)\n",
    "        self.register_buffer(\"beta\", torch.as_tensor(beta))\n",
    "        self.register_buffer(\"goal\", torch.as_tensor(goal))\n",
    "\n",
    "    @t_batch_mode_transform(expected_q=1)\n",
    "    def forward(self, X: Tensor) -> Tensor:\n",
    "        r\"\"\"Evaluate the Upper Confidence Bound on the candidate set X.\n",
    "\n",
    "        Args:\n",
    "            X: A `(b1 x ... bk) x 1 x d`-dim batched tensor of `d`-dim design points.\n",
    "\n",
    "        Returns:\n",
    "            A `(b1 x ... bk)`-dim tensor of Upper Confidence Bound values at the\n",
    "            given design points `X`.\n",
    "        \"\"\"\n",
    "        mean, sigma = self._mean_and_sigma(X)\n",
    "        return -torch.abs(mean - self.goal) + self.beta.sqrt()*sigma"
   ]
  },
  {
   "cell_type": "code",
   "execution_count": 5,
   "id": "eb83ca6c-e298-4cdc-88ed-a83ec9bb807c",
   "metadata": {},
   "outputs": [],
   "source": [
    "def train_SingleTaskGP(train_X, train_Y, train_Yvar=None, FixedYvar=None, covar_module=None, PolynomialPower=None):\n",
    "    if PolynomialPower:\n",
    "        if PolynomialPower == 1:\n",
    "            covar_module = LinearKernel()\n",
    "        else:\n",
    "            covar_module = PolynomialKernel(PolynomialPower)\n",
    "    else:\n",
    "        covar_module = covar_module\n",
    "            \n",
    "    model = SingleTaskGP(\n",
    "            train_X, train_Y, train_Yvar=train_Yvar, \n",
    "        covar_module=covar_module, \n",
    "        input_transform=Normalize(1), \n",
    "        outcome_transform=Standardize(1)\n",
    "    )\n",
    "\n",
    "    FixedYvar = FixedYvar or 0\n",
    "    if train_Yvar is None:\n",
    "        noise = FixedYvar + 1e-6\n",
    "        noise_var = 0.1*FixedYvar + 1e-6\n",
    "    else:\n",
    "        noise = train_Yvar.mean().item() + 1e-6  # noise represent variation of y (output of the evaluator)\n",
    "        noise_var = train_Yvar.var().item() + 1e-6\n",
    "    likelihood = GaussianLikelihood(noise_prior=GammaPrior(noise**2/noise_var+1e-12, noise/noise_var+1e-12))\n",
    "    \n",
    "    mll = ExactMarginalLogLikelihood(likelihood, model)\n",
    "    fit_gpytorch_mll(mll,max_attempts=5,pick_best_of_all_attempts=True);\n",
    "\n",
    "    return model"
   ]
  },
  {
   "cell_type": "code",
   "execution_count": 15,
   "id": "d2b4c855-740e-4d6d-97fe-1882797e7829",
   "metadata": {},
   "outputs": [],
   "source": [
    "def SingleInputSingleOutputControl(evaluator,goal,x0,dx,xmin,xmax,PolynomialPower=None,timeout_sec=None):\n",
    "    y0, y0err = evaluator(x0)\n",
    "    y1, y1err = evaluator(x0+dx)\n",
    "    train_X = torch.tensor([[x0],[x0+dx]])\n",
    "    train_Y = torch.tensor([[y0],[y1]])\n",
    "    train_Yvar = torch.tensor([[y0err**2],[y1err**2]])\n",
    "    covar_module = LinearKernel()\n",
    "\n",
    "    for beta in [4,0]:# [4,1,0]:\n",
    "        model = train_SingleTaskGP(train_X, train_Y, train_Yvar=train_Yvar, PolynomialPower=PolynomialPower)\n",
    "        acqu = GoalConfidenceBound(model,goal,beta=beta)\n",
    "        candidates, acq_value = optimize_acqf(acqu,\n",
    "                                              bounds=torch.tensor([[xmin],[xmax]]),\n",
    "                                              q=1, \n",
    "                                              num_restarts=8, \n",
    "                                              raw_samples=32,\n",
    "                                              timeout_sec=timeout_sec)\n",
    "        print(candidates)\n",
    "        y1, y1err = evaluator(candidates.item())\n",
    "        train_X = torch.vstack((train_X, candidates))\n",
    "        train_Y = torch.vstack((train_Y, torch.tensor([[y1]])))\n",
    "        train_Yvar = torch.vstack((train_Yvar, torch.tensor([[y1err**2]])))\n",
    "\n",
    "    model = train_SingleTaskGP(train_X, train_Y, train_Yvar=train_Yvar, PolynomialPower=PolynomialPower)\n",
    "\n",
    "    result = dictClass()\n",
    "    result.model = model\n",
    "    result.train_X = train_X\n",
    "    result.train_Y = train_Y\n",
    "    result.train_Yvar = train_Yvar\n",
    "    return result"
   ]
  },
  {
   "cell_type": "code",
   "execution_count": 16,
   "id": "a4514c95-7a38-4774-b86b-06978660c8a6",
   "metadata": {},
   "outputs": [
    {
     "name": "stdout",
     "output_type": "stream",
     "text": [
      "tensor([[-0.5703]])\n",
      "tensor([[-0.5063]])\n"
     ]
    }
   ],
   "source": [
    "result = SingleInputSingleOutputControl(objective_function,goal=0,x0=0.5,dx=0.1,xmin=-1,xmax=1.5,PolynomialPower=1)"
   ]
  },
  {
   "cell_type": "code",
   "execution_count": 17,
   "id": "921ce7ef-d731-44cf-94d4-c18647a4ac11",
   "metadata": {},
   "outputs": [
    {
     "data": {
      "text/plain": [
       "<matplotlib.collections.PolyCollection at 0x175b492b490>"
      ]
     },
     "execution_count": 17,
     "metadata": {},
     "output_type": "execute_result"
    },
    {
     "data": {
      "image/png": "[encoded data removed]",
      "text/plain": [
       "<Figure size 640x480 with 1 Axes>"
      ]
     },
     "metadata": {},
     "output_type": "display_data"
    }
   ],
   "source": [
    "plot_x = torch.linspace(-0.5, 1.5, 100, dtype=_dtype).unsqueeze(-1)\n",
    "with torch.no_grad():\n",
    "    posterior = result.model.posterior(plot_x)\n",
    "    mean, std = posterior.mean, posterior.stddev.view(-1,1)\n",
    "    lower, upper = mean-2*std, mean+2*std\n",
    "    \n",
    "plt.plot(plot_x.view(-1).numpy(), mean.view(-1).numpy(), label='GP Mean')\n",
    "plt.scatter(result.train_X,result.train_Y)\n",
    "plt.fill_between(plot_x.view(-1).numpy().flatten(), lower.numpy().flatten(), upper.numpy().flatten(), alpha=0.2, label='GP Confidence Interval')"
   ]
  },
  {
   "cell_type": "code",
   "execution_count": null,
   "id": "1c07e2f2-6616-4adf-89e2-089805287c61",
   "metadata": {},
   "outputs": [],
   "source": []
  }
 ],
 "metadata": {
  "kernelspec": {
   "display_name": "Python 3 (ipykernel)",
   "language": "python",
   "name": "python3"
  },
  "language_info": {
   "codemirror_mode": {
    "name": "ipython",
    "version": 3
   },
   "file_extension": ".py",
   "mimetype": "text/x-python",
   "name": "python",
   "nbconvert_exporter": "python",
   "pygments_lexer": "ipython3",
   "version": "3.11.2"
  }
 },
 "nbformat": 4,
 "nbformat_minor": 5
}
